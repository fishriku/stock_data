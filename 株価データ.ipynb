{
  "nbformat": 4,
  "nbformat_minor": 0,
  "metadata": {
    "colab": {
      "provenance": [],
      "authorship_tag": "ABX9TyNvy4Hyapfvy8xiLr4ivE08"
    },
    "kernelspec": {
      "name": "python3",
      "display_name": "Python 3"
    },
    "language_info": {
      "name": "python"
    }
  },
  "cells": [
    {
      "cell_type": "code",
      "source": [
        "pip install pandas_datareader pandas\n"
      ],
      "metadata": {
        "colab": {
          "base_uri": "https://localhost:8080/"
        },
        "id": "8_oAwclRGlzE",
        "outputId": "14e7ca2f-cfcc-4be1-fd2a-71ab9043d652"
      },
      "execution_count": 4,
      "outputs": [
        {
          "output_type": "stream",
          "name": "stdout",
          "text": [
            "Looking in indexes: https://pypi.org/simple, https://us-python.pkg.dev/colab-wheels/public/simple/\n",
            "Requirement already satisfied: pandas_datareader in /usr/local/lib/python3.10/dist-packages (0.10.0)\n",
            "Requirement already satisfied: pandas in /usr/local/lib/python3.10/dist-packages (1.5.3)\n",
            "Requirement already satisfied: lxml in /usr/local/lib/python3.10/dist-packages (from pandas_datareader) (4.9.2)\n",
            "Requirement already satisfied: requests>=2.19.0 in /usr/local/lib/python3.10/dist-packages (from pandas_datareader) (2.27.1)\n",
            "Requirement already satisfied: python-dateutil>=2.8.1 in /usr/local/lib/python3.10/dist-packages (from pandas) (2.8.2)\n",
            "Requirement already satisfied: pytz>=2020.1 in /usr/local/lib/python3.10/dist-packages (from pandas) (2022.7.1)\n",
            "Requirement already satisfied: numpy>=1.21.0 in /usr/local/lib/python3.10/dist-packages (from pandas) (1.22.4)\n",
            "Requirement already satisfied: six>=1.5 in /usr/local/lib/python3.10/dist-packages (from python-dateutil>=2.8.1->pandas) (1.16.0)\n",
            "Requirement already satisfied: urllib3<1.27,>=1.21.1 in /usr/local/lib/python3.10/dist-packages (from requests>=2.19.0->pandas_datareader) (1.26.15)\n",
            "Requirement already satisfied: certifi>=2017.4.17 in /usr/local/lib/python3.10/dist-packages (from requests>=2.19.0->pandas_datareader) (2022.12.7)\n",
            "Requirement already satisfied: charset-normalizer~=2.0.0 in /usr/local/lib/python3.10/dist-packages (from requests>=2.19.0->pandas_datareader) (2.0.12)\n",
            "Requirement already satisfied: idna<4,>=2.5 in /usr/local/lib/python3.10/dist-packages (from requests>=2.19.0->pandas_datareader) (3.4)\n"
          ]
        }
      ]
    },
    {
      "cell_type": "code",
      "source": [
        "import pandas as pd\n",
        "from pandas_datareader import data as pdr\n",
        "import yfinance as yf\n",
        "\n",
        "yf.pdr_override()\n",
        "\n",
        "# ユーザーから株価データを取得したい企業のシンボルを入力してもらいます。\n",
        "ticker_symbol = input('Enter the ticker symbol of the company: ')\n",
        "\n",
        "# ユーザーからデータを取得したい期間を入力してもらいます。\n",
        "start_date = input('Enter the start date (YYYY-MM-DD): ')\n",
        "end_date = input('Enter the end date (YYYY-MM-DD): ')\n",
        "\n",
        "# Yahoo Financeからデータを取得します。\n",
        "data = pdr.get_data_yahoo(ticker_symbol, start=start_date, end=end_date)\n",
        "\n",
        "# データをCSVファイルに保存します。ファイル名もユーザーが指定した企業のシンボルに基づきます。\n",
        "data.to_csv(f'{ticker_symbol}_stock.csv')"
      ],
      "metadata": {
        "colab": {
          "base_uri": "https://localhost:8080/"
        },
        "id": "nu0CCWYBGoBN",
        "outputId": "58744602-6f3d-4d71-84e8-f3c74aca525e"
      },
      "execution_count": 5,
      "outputs": [
        {
          "output_type": "stream",
          "name": "stdout",
          "text": [
            "Enter the ticker symbol of the company: 9613.T\n",
            "Enter the start date (YYYY-MM-DD): 2010-1-1\n",
            "Enter the end date (YYYY-MM-DD): 2020-1-1\n",
            "[*********************100%***********************]  1 of 1 completed\n"
          ]
        }
      ]
    },
    {
      "cell_type": "code",
      "source": [
        "import pandas as pd\n",
        "\n",
        "# 保存したCSVファイルを読み込む\n",
        "data = pd.read_csv('9613.T_stock.csv')\n",
        "\n",
        "# データの最初の5行を表示\n",
        "print(data.head())\n"
      ],
      "metadata": {
        "colab": {
          "base_uri": "https://localhost:8080/"
        },
        "id": "bPlvpOQpHMns",
        "outputId": "8b60cee1-41d0-462f-a755-8df2fc7d598c"
      },
      "execution_count": 6,
      "outputs": [
        {
          "output_type": "stream",
          "name": "stdout",
          "text": [
            "         Date        Open        High         Low       Close   Adj Close  \\\n",
            "0  2010-01-04  577.599976  586.200012  577.200012  581.799988  474.282654   \n",
            "1  2010-01-05  590.200012  597.400024  587.799988  596.200012  486.021362   \n",
            "2  2010-01-06  600.000000  603.000000  593.599976  603.000000  491.564575   \n",
            "3  2010-01-07  593.000000  600.000000  590.200012  595.000000  485.043304   \n",
            "4  2010-01-08  598.000000  598.400024  574.000000  577.799988  471.021820   \n",
            "\n",
            "     Volume  \n",
            "0   2030500  \n",
            "1   4363500  \n",
            "2   4436000  \n",
            "3   3365500  \n",
            "4  12628500  \n"
          ]
        }
      ]
    }
  ]
}